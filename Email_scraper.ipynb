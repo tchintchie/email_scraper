{
  "nbformat": 4,
  "nbformat_minor": 0,
  "metadata": {
    "colab": {
      "name": "Email_scraper.ipynb",
      "provenance": [],
      "authorship_tag": "ABX9TyMGRQnhhu81F+Qg2K8pjHW8",
      "include_colab_link": true
    },
    "kernelspec": {
      "name": "python3",
      "display_name": "Python 3"
    }
  },
  "cells": [
    {
      "cell_type": "markdown",
      "metadata": {
        "id": "view-in-github",
        "colab_type": "text"
      },
      "source": [
        "<a href=\"https://colab.research.google.com/github/tchintchie/email_scraper/blob/master/Email_scraper.ipynb\" target=\"_parent\"><img src=\"https://colab.research.google.com/assets/colab-badge.svg\" alt=\"Open In Colab\"/></a>"
      ]
    },
    {
      "cell_type": "markdown",
      "metadata": {
        "id": "1ZFohtlyDn87",
        "colab_type": "text"
      },
      "source": [
        "\n",
        "## Step 1: Import Libraries\n",
        "---\n",
        "\n"
      ]
    },
    {
      "cell_type": "code",
      "metadata": {
        "id": "d0A8IADc3-vS",
        "colab_type": "code",
        "colab": {}
      },
      "source": [
        "import re\n",
        "import requests\n",
        "from urllib.parse import urlsplit\n",
        "from collections import deque\n",
        "from bs4 import BeautifulSoup\n",
        "import pandas as pd"
      ],
      "execution_count": 18,
      "outputs": []
    },
    {
      "cell_type": "markdown",
      "metadata": {
        "id": "sPCe1ZQ2CqjM",
        "colab_type": "text"
      },
      "source": [
        "## Step 2: Initialize variables\n",
        "\n",
        "Then, we initialize a `deque` for saving unscraped URLs, a `set` for scraped URLs, and a `set` for saving emails scraped successfully from the website."
      ]
    },
    {
      "cell_type": "code",
      "metadata": {
        "id": "bL-QNH-OC2ma",
        "colab_type": "code",
        "colab": {}
      },
      "source": [
        "original_url = \"https://www.auderer-reisen.at/\"\n",
        "#original_url = input(\"Enter URL to scrape: \")\n",
        "\n",
        "unscraped_url = deque([original_url])\n",
        "scraped_url = set()\n",
        "scraped_mails = set()"
      ],
      "execution_count": 52,
      "outputs": []
    },
    {
      "cell_type": "markdown",
      "metadata": {
        "id": "aUrt6AK-Dg30",
        "colab_type": "text"
      },
      "source": [
        "## Step 3: Start scraping\n",
        "First, move a url from unscraped to scraped."
      ]
    },
    {
      "cell_type": "code",
      "metadata": {
        "id": "2lkhFciaC_eA",
        "colab_type": "code",
        "colab": {}
      },
      "source": [
        "while len(unscraped_url)>0:\n",
        "  url = unscraped_url.popleft()\n",
        "  scraped_url.add(url)"
      ],
      "execution_count": 53,
      "outputs": []
    },
    {
      "cell_type": "code",
      "metadata": {
        "id": "uWnPIk1CEeR_",
        "colab_type": "code",
        "colab": {
          "base_uri": "https://localhost:8080/",
          "height": 35
        },
        "outputId": "59fa9da6-d6a7-434d-e0d7-9fbeb0b4434f"
      },
      "source": [
        "parts = urlsplit(url)\n",
        "print(parts)"
      ],
      "execution_count": 54,
      "outputs": [
        {
          "output_type": "stream",
          "text": [
            "SplitResult(scheme='https', netloc='www.auderer-reisen.at', path='/', query='', fragment='')\n"
          ],
          "name": "stdout"
        }
      ]
    },
    {
      "cell_type": "code",
      "metadata": {
        "id": "iAAlcmG5EhFp",
        "colab_type": "code",
        "colab": {}
      },
      "source": [
        "base_url = \"{0.scheme}://{0.netloc}\".format(parts)\n",
        "if \"/\" in parts.path:\n",
        "  path = url[:url.rfind('/')+1]\n",
        "else:\n",
        "  path = url"
      ],
      "execution_count": 55,
      "outputs": []
    },
    {
      "cell_type": "code",
      "metadata": {
        "id": "T0djmSJMFim3",
        "colab_type": "code",
        "colab": {
          "base_uri": "https://localhost:8080/",
          "height": 36
        },
        "outputId": "d259caf2-bfb1-43ed-9dc9-84f0f2f6ed70"
      },
      "source": [
        "path"
      ],
      "execution_count": 56,
      "outputs": [
        {
          "output_type": "execute_result",
          "data": {
            "application/vnd.google.colaboratory.intrinsic": {
              "type": "string"
            },
            "text/plain": [
              "'https://www.auderer-reisen.at/'"
            ]
          },
          "metadata": {
            "tags": []
          },
          "execution_count": 56
        }
      ]
    },
    {
      "cell_type": "code",
      "metadata": {
        "id": "bw4ZWsgzIbIa",
        "colab_type": "code",
        "colab": {}
      },
      "source": [
        ""
      ],
      "execution_count": null,
      "outputs": []
    }
  ]
}